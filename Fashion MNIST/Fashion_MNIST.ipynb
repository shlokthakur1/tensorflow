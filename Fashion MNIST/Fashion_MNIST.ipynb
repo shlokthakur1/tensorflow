{
 "cells": [
  {
   "cell_type": "markdown",
   "id": "a4c6b1fd-13b6-45fd-b6ae-35647124716e",
   "metadata": {
    "tags": []
   },
   "source": [
    "### <span style=\"color:#0b486b\">Import Libraries</span>"
   ]
  },
  {
   "cell_type": "code",
   "execution_count": null,
   "id": "db5d30a9-4470-46bb-87c0-cfeed4ea31ba",
   "metadata": {},
   "outputs": [],
   "source": [
    "import tensorflow as tf\n",
    "from tensorflow import keras\n",
    "import numpy as np"
   ]
  },
  {
   "cell_type": "markdown",
   "id": "5c2b8df0-8ffa-4fff-bb80-b0717f0bd7b1",
   "metadata": {
    "tags": []
   },
   "source": [
    "### <span style=\"color:#0b486b\">Load Data</span>"
   ]
  },
  {
   "cell_type": "code",
   "execution_count": null,
   "id": "b832216d-b8c3-4f91-a9d5-b97aa62b3e90",
   "metadata": {},
   "outputs": [],
   "source": [
    "fashion_mnist = keras.datasets.fashion_mnist\n",
    "(X_train_full_img, y_train_full), (X_test_img, y_test) = fashion_mnist.load_data()"
   ]
  },
  {
   "cell_type": "code",
   "execution_count": null,
   "id": "e0b21d9b-8c0f-456f-a22c-6a1e50fdaa4a",
   "metadata": {},
   "outputs": [],
   "source": [
    "num_train = X_train_full_img.shape[0]\n",
    "num_test = X_test_img.shape[0]\n",
    "X_train_full = X_train_full_img.reshape(num_train,-1)\n",
    "X_test = X_test_img.reshape(num_test,-1)\n",
    "print(X_train_full.shape, y_train_full.shape)\n",
    "print(X_test.shape, y_test.shape)"
   ]
  },
  {
   "cell_type": "markdown",
   "id": "7da85948-8e57-40cf-882a-a36d33efda5d",
   "metadata": {
    "tags": []
   },
   "source": [
    "### <span style=\"color:#0b486b\">Split Data</span>"
   ]
  },
  {
   "cell_type": "code",
   "execution_count": null,
   "id": "7051c5c3-0030-474b-8228-7b24dcbd9456",
   "metadata": {},
   "outputs": [],
   "source": [
    "import math\n",
    "N = X_train_full.shape[0]\n",
    "i = math.floor(0.9*N)\n",
    "X_train, y_train = X_train_full[0:i],y_train_full[0:i]\n",
    "X_valid, y_valid = X_train_full[i:N],y_train_full[i:N]\n",
    "X_train, X_valid, X_test = X_train/255.0, X_valid/255.0, X_test/255.0"
   ]
  },
  {
   "cell_type": "markdown",
   "id": "8acc4587-5411-4995-8aed-69b2b85120eb",
   "metadata": {
    "tags": []
   },
   "source": [
    "### <span style=\"color:#0b486b\">Visualize Data</span>"
   ]
  },
  {
   "cell_type": "code",
   "execution_count": null,
   "id": "6523c776-79b4-4cf4-94f3-8fa63b1ee73b",
   "metadata": {},
   "outputs": [],
   "source": [
    "import matplotlib.pyplot as plt\n",
    "%matplotlib inline"
   ]
  },
  {
   "cell_type": "code",
   "execution_count": null,
   "id": "fca5320f-95b4-4aaa-9947-6ed5a481a05b",
   "metadata": {},
   "outputs": [],
   "source": [
    "class_names = ['T-shirt/top', 'Trouser', 'Pullover', 'Dress', 'Coat',\n",
    "               'Sandal', 'Shirt', 'Sneaker', 'Bag', 'Ankle boot']\n",
    "\n",
    "plt.figure(figsize=(10,10))\n",
    "for i in range(36):\n",
    "    plt.subplot(6,6,i+1)\n",
    "    plt.xticks([])\n",
    "    plt.yticks([])\n",
    "    plt.grid(False)\n",
    "    plt.imshow(X_train_full_img[i], cmap=plt.cm.binary)\n",
    "    plt.xlabel(class_names[y_train[i]])\n",
    "plt.show()\n"
   ]
  },
  {
   "cell_type": "markdown",
   "id": "c79766d2-ecce-405e-a1de-36ae3d7957af",
   "metadata": {
    "tags": []
   },
   "source": [
    "### <span style=\"color:#0b486b\">Build Simple NN Model</span>"
   ]
  },
  {
   "cell_type": "code",
   "execution_count": null,
   "id": "aee53567-6bca-4278-88ba-5765b0b5b2d9",
   "metadata": {},
   "outputs": [],
   "source": [
    "tf.compat.v1.reset_default_graph()\n",
    "tf.random.set_seed(1)\n",
    "model = tf.keras.Sequential([\n",
    "                    tf.keras.layers.Input(shape = 784),\n",
    "                    tf.keras.layers.Dense(20, activation='relu'),\n",
    "                    tf.keras.layers.Dense(25, activation= 'relu'),\n",
    "                    tf.keras.layers.Dense(10, activation= 'softmax')])\n",
    "\n",
    "model.compile(optimizer='adam',\n",
    "              loss=tf.keras.losses.SparseCategoricalCrossentropy(from_logits=True),\n",
    "              metrics=['accuracy'])\n",
    "\n",
    "model.fit(X_train, y_train, validation_data=(X_valid, y_valid),epochs=20)"
   ]
  },
  {
   "cell_type": "code",
   "execution_count": null,
   "id": "553525a7-fe21-44d9-9c6d-3b04fd5e81bc",
   "metadata": {},
   "outputs": [],
   "source": [
    "test_loss, test_acc = model.evaluate(X_test,  y_test, verbose=2)\n",
    "print(\"The accuracy of the trained model on the testing set is\",test_acc)"
   ]
  },
  {
   "cell_type": "markdown",
   "id": "59ac0f17-4c88-4521-bd72-4388f58111d1",
   "metadata": {
    "tags": []
   },
   "source": [
    "### <span style=\"color:#0b486b\">Apply Hypter-tuning technique Grid Search to build better model</span>"
   ]
  },
  {
   "cell_type": "code",
   "execution_count": null,
   "id": "2b8a4dd3-3e9d-477f-b9b0-ca1d4e3e150f",
   "metadata": {},
   "outputs": [],
   "source": [
    "def createModel(nodeValue,activationValue):\n",
    "    tf.compat.v1.reset_default_graph()\n",
    "    model = tf.keras.Sequential([\n",
    "    tf.keras.layers.Input(shape = 784),\n",
    "    tf.keras.layers.Dense(nodeValue, activation=activationValue),\n",
    "    tf.keras.layers.Dense(25, activation= activationValue),\n",
    "    tf.keras.layers.Dense(10, activation = \"softmax\")\n",
    "    ])\n",
    "    return model\n"
   ]
  },
  {
   "cell_type": "code",
   "execution_count": null,
   "id": "6f5ba574-02c7-480f-ab08-50db39ec9b5e",
   "metadata": {},
   "outputs": [],
   "source": [
    "nodes = [10,20,30,40]\n",
    "activation = ['sigmoid','tanh','relu']\n",
    "test_acc_storage = []\n",
    "best_test_acc = 0\n",
    "best_nodes = nodes[0]\n",
    "best_activation = activation[0]\n",
    "tf.random.set_seed(1)\n",
    "\n",
    "for i in range(len(nodes)):\n",
    "    for j in range(len(activation)):\n",
    "        \n",
    "        model = createModel(nodes[i],activation[j])\n",
    "        model.compile(optimizer='adam',\n",
    "              loss=tf.keras.losses.SparseCategoricalCrossentropy(from_logits=True),\n",
    "              metrics=['accuracy'])\n",
    "        model.fit(X_valid, y_valid,validation_data=(X_valid, y_valid), epochs=20, verbose = 0)\n",
    "        test_loss, test_acc = model.evaluate(X_test,  y_test, verbose=1)\n",
    "        test_acc_storage.append(test_acc)\n",
    "        if test_acc > best_test_acc:\n",
    "            best_test_acc = test_acc\n",
    "            best_nodes = nodes[i]\n",
    "            best_activation = activation[j]\n",
    "            \n",
    "print(\"The best number of nodes is:\",best_nodes)\n",
    "print(\"The best activation function is:\",best_activation)\n",
    "print(\"The test accuracy is:\",best_test_acc)"
   ]
  },
  {
   "cell_type": "markdown",
   "id": "2c5d0877-841d-4b07-896d-c93ea26febc6",
   "metadata": {
    "tags": []
   },
   "source": [
    "### <span style=\"color:#0b486b\">Experiment with temperature based model</span>"
   ]
  },
  {
   "cell_type": "code",
   "execution_count": null,
   "id": "c5c71825-5f3b-47e1-a44b-1eae64174ca9",
   "metadata": {},
   "outputs": [],
   "source": [
    "fi = [0.1,0.5,0.8]\n",
    "tf.random.set_seed(1)\n",
    "modelStorage = []\n",
    "for i in range(len(fi)):\n",
    "    tf.compat.v1.reset_default_graph()\n",
    "    X = tf.keras.layers.Input(shape = 784) #declare input layer\n",
    "    h = tf.keras.layers.Dense(units=20, activation= 'relu')(X)\n",
    "    h = tf.keras.layers.Dense(units=25, activation= 'relu')(h)\n",
    "    h = h/fi[i]\n",
    "    h = tf.keras.layers.Dense(units=10, activation= 'softmax')(h)\n",
    "    model = tf.keras.Model(inputs= X, outputs=h)\n",
    "    modelStorage.append(model)\n",
    "\n",
    "temp_model = modelStorage[0] #choose which temperature you want\n",
    "temp_model.compile(optimizer='adam', loss='sparse_categorical_crossentropy', metrics=['accuracy'])\n",
    "temp_model.fit(x= X_train, y= y_train, batch_size= 64, epochs= 20, validation_data = (X_valid, y_valid))"
   ]
  }
 ],
 "metadata": {
  "kernelspec": {
   "display_name": "Python 3",
   "language": "python",
   "name": "python3"
  },
  "language_info": {
   "codemirror_mode": {
    "name": "ipython",
    "version": 3
   },
   "file_extension": ".py",
   "mimetype": "text/x-python",
   "name": "python",
   "nbconvert_exporter": "python",
   "pygments_lexer": "ipython3",
   "version": "3.8.11"
  }
 },
 "nbformat": 4,
 "nbformat_minor": 5
}
