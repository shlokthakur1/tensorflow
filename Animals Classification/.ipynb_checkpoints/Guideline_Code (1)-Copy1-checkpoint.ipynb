{
 "cells": [
  {
   "cell_type": "code",
   "execution_count": 7,
   "metadata": {},
   "outputs": [
    {
     "name": "stdout",
     "output_type": "stream",
     "text": [
      "The autoreload extension is already loaded. To reload it, use:\n",
      "  %reload_ext autoreload\n"
     ]
    }
   ],
   "source": [
    "%load_ext autoreload\n",
    "%autoreload 2"
   ]
  },
  {
   "cell_type": "code",
   "execution_count": 8,
   "metadata": {},
   "outputs": [],
   "source": [
    "import tensorflow as tf\n",
    "from tensorflow import keras\n",
    "from tensorflow.keras import models, layers\n",
    "import cv2\n",
    "import os\n",
    "from imutils import paths\n",
    "import imutils\n",
    "import numpy as np\n",
    "from sklearn.model_selection import train_test_split\n",
    "from sklearn import preprocessing\n",
    "import matplotlib.pyplot as plt\n",
    "plt.style.use('ggplot')\n",
    "%matplotlib inline\n",
    "import models\n",
    "from models import SimplePreprocessor, AnimalsDatasetManager"
   ]
  },
  {
   "cell_type": "code",
   "execution_count": 23,
   "metadata": {},
   "outputs": [],
   "source": [
    "def build_cnn():\n",
    "    model = models.models.Sequential()\n",
    "    model.add(layers.Conv2D(32, (3,3), padding='same', activation= 'relu', input_shape=(32,32,3)))\n",
    "    model.add(layers.Conv2D(32, (3,3), padding='same', activation='relu'))\n",
    "    model.add(layers.AveragePooling2D(pool_size=(2, 2), padding='same'))\n",
    "    model.add(layers.Conv2D(64, (3,3), padding='same', activation='relu'))\n",
    "    model.add(layers.Conv2D(64, (3,3), padding='same', activation='relu'))\n",
    "    model.add(layers.AveragePooling2D(pool_size=(2, 2), padding='same'))\n",
    "    model.add(layers.Flatten())\n",
    "    model.add(layers.Dense(10, activation='softmax'))\n",
    "    return model"
   ]
  },
  {
   "cell_type": "code",
   "execution_count": 10,
   "metadata": {},
   "outputs": [],
   "source": [
    "def create_label_folder_dict(adir):\n",
    "    sub_folders= [folder for folder in os.listdir(adir)\n",
    "                  if os.path.isdir(os.path.join(adir, folder))]\n",
    "    label_folder_dict= dict()\n",
    "    for folder in sub_folders:\n",
    "        item= {folder: os.path.abspath(os.path.join(adir, folder))}\n",
    "        label_folder_dict.update(item)\n",
    "    return label_folder_dict"
   ]
  },
  {
   "cell_type": "code",
   "execution_count": 11,
   "metadata": {},
   "outputs": [],
   "source": [
    "label_folder_dict= create_label_folder_dict(\"./datasets/Animals\")"
   ]
  },
  {
   "cell_type": "code",
   "execution_count": 12,
   "metadata": {},
   "outputs": [
    {
     "name": "stdout",
     "output_type": "stream",
     "text": [
      "butterfiles 500\n",
      "Processed 100/500\n",
      "Processed 200/500\n",
      "Processed 300/500\n",
      "Processed 400/500\n",
      "Processed 500/500\n",
      "cats 501\n",
      "Processed 100/500\n",
      "Processed 200/500\n",
      "Processed 300/500\n",
      "Processed 400/500\n",
      "Processed 500/500\n",
      "chickens 500\n",
      "Processed 100/500\n",
      "Processed 200/500\n",
      "Processed 300/500\n",
      "Processed 400/500\n",
      "Processed 500/500\n",
      "cows 500\n",
      "Processed 100/500\n",
      "Processed 200/500\n",
      "Processed 300/500\n",
      "Processed 400/500\n",
      "Processed 500/500\n",
      "dogs 501\n",
      "Processed 100/500\n",
      "Processed 200/500\n",
      "Processed 300/500\n",
      "Processed 400/500\n",
      "Processed 500/500\n",
      "elephants 500\n",
      "Processed 100/500\n",
      "Processed 200/500\n",
      "Processed 300/500\n",
      "Processed 400/500\n",
      "Processed 500/500\n",
      "fishes 500\n",
      "Processed 100/500\n",
      "Processed 200/500\n",
      "Processed 300/500\n",
      "Processed 400/500\n",
      "Processed 500/500\n",
      "horses 500\n",
      "Processed 100/500\n",
      "Processed 200/500\n",
      "Processed 300/500\n",
      "Processed 400/500\n",
      "Processed 500/500\n",
      "lions 500\n",
      "Processed 100/500\n",
      "Processed 200/500\n",
      "Processed 300/500\n",
      "Processed 400/500\n",
      "Processed 500/500\n",
      "spiders 500\n",
      "Processed 100/500\n",
      "Processed 200/500\n",
      "Processed 300/500\n",
      "Processed 400/500\n",
      "Processed 500/500\n"
     ]
    }
   ],
   "source": [
    "sp = SimplePreprocessor(width=32, height=32)\n",
    "data_manager = AnimalsDatasetManager([sp])\n",
    "data_manager.load(label_folder_dict, verbose=100)\n",
    "data_manager.process_data_label()\n",
    "data_manager.train_valid_test_split()"
   ]
  },
  {
   "cell_type": "code",
   "execution_count": 24,
   "metadata": {},
   "outputs": [],
   "source": [
    "model = build_cnn()"
   ]
  },
  {
   "cell_type": "code",
   "execution_count": 25,
   "metadata": {},
   "outputs": [
    {
     "name": "stdout",
     "output_type": "stream",
     "text": [
      "Epoch 1/30\n",
      "125/125 [==============================] - 7s 52ms/step - loss: 2.0283 - accuracy: 0.2635 - val_loss: 1.8551 - val_accuracy: 0.3280\n",
      "Epoch 2/30\n",
      "125/125 [==============================] - 6s 51ms/step - loss: 1.6802 - accuracy: 0.4195 - val_loss: 1.6959 - val_accuracy: 0.3880\n",
      "Epoch 3/30\n",
      "125/125 [==============================] - 6s 51ms/step - loss: 1.4855 - accuracy: 0.4850 - val_loss: 1.6102 - val_accuracy: 0.4280\n",
      "Epoch 4/30\n",
      "125/125 [==============================] - 7s 52ms/step - loss: 1.3276 - accuracy: 0.5510 - val_loss: 1.4845 - val_accuracy: 0.4880\n",
      "Epoch 5/30\n",
      "125/125 [==============================] - 6s 51ms/step - loss: 1.2017 - accuracy: 0.5867 - val_loss: 1.4536 - val_accuracy: 0.5060\n",
      "Epoch 6/30\n",
      "125/125 [==============================] - 6s 51ms/step - loss: 1.0540 - accuracy: 0.6420 - val_loss: 1.4169 - val_accuracy: 0.5260\n",
      "Epoch 7/30\n",
      "125/125 [==============================] - 7s 54ms/step - loss: 0.9291 - accuracy: 0.6840 - val_loss: 1.5275 - val_accuracy: 0.5400\n",
      "Epoch 8/30\n",
      "125/125 [==============================] - 7s 56ms/step - loss: 0.8248 - accuracy: 0.7258 - val_loss: 1.5670 - val_accuracy: 0.5060\n",
      "Epoch 9/30\n",
      "125/125 [==============================] - 6s 51ms/step - loss: 0.6771 - accuracy: 0.7680 - val_loss: 1.5325 - val_accuracy: 0.5240\n",
      "Epoch 10/30\n",
      "125/125 [==============================] - 6s 52ms/step - loss: 0.5487 - accuracy: 0.8142 - val_loss: 1.7273 - val_accuracy: 0.5260\n",
      "Epoch 11/30\n",
      "125/125 [==============================] - 7s 54ms/step - loss: 0.4474 - accuracy: 0.8445 - val_loss: 1.9360 - val_accuracy: 0.5480\n",
      "Epoch 12/30\n",
      "125/125 [==============================] - 7s 53ms/step - loss: 0.3508 - accuracy: 0.8788 - val_loss: 2.1246 - val_accuracy: 0.5280\n",
      "Epoch 13/30\n",
      "125/125 [==============================] - 7s 53ms/step - loss: 0.2514 - accuracy: 0.9187 - val_loss: 2.1906 - val_accuracy: 0.5220\n",
      "Epoch 14/30\n",
      "125/125 [==============================] - 7s 53ms/step - loss: 0.1924 - accuracy: 0.9377 - val_loss: 2.5924 - val_accuracy: 0.5280\n",
      "Epoch 15/30\n",
      "125/125 [==============================] - 7s 54ms/step - loss: 0.2171 - accuracy: 0.9235 - val_loss: 2.4455 - val_accuracy: 0.5100\n",
      "Epoch 16/30\n",
      "125/125 [==============================] - 7s 53ms/step - loss: 0.1467 - accuracy: 0.9507 - val_loss: 2.9445 - val_accuracy: 0.5440\n",
      "Epoch 17/30\n",
      "125/125 [==============================] - 7s 53ms/step - loss: 0.1100 - accuracy: 0.9647 - val_loss: 3.0229 - val_accuracy: 0.5020\n",
      "Epoch 18/30\n",
      "125/125 [==============================] - 7s 53ms/step - loss: 0.0756 - accuracy: 0.9778 - val_loss: 3.2760 - val_accuracy: 0.5160\n",
      "Epoch 19/30\n",
      "125/125 [==============================] - 7s 53ms/step - loss: 0.0809 - accuracy: 0.9750 - val_loss: 3.2048 - val_accuracy: 0.4820\n",
      "Epoch 20/30\n",
      "125/125 [==============================] - 7s 54ms/step - loss: 0.0857 - accuracy: 0.9750 - val_loss: 3.3807 - val_accuracy: 0.5260\n",
      "Epoch 21/30\n",
      "125/125 [==============================] - 7s 52ms/step - loss: 0.0789 - accuracy: 0.9758 - val_loss: 3.7187 - val_accuracy: 0.5360\n",
      "Epoch 22/30\n",
      "125/125 [==============================] - 7s 55ms/step - loss: 0.0954 - accuracy: 0.9700 - val_loss: 3.5646 - val_accuracy: 0.5180\n",
      "Epoch 23/30\n",
      "125/125 [==============================] - 7s 54ms/step - loss: 0.0513 - accuracy: 0.9830 - val_loss: 3.9753 - val_accuracy: 0.5200\n",
      "Epoch 24/30\n",
      "125/125 [==============================] - 7s 52ms/step - loss: 0.0776 - accuracy: 0.9728 - val_loss: 3.7078 - val_accuracy: 0.5280\n",
      "Epoch 25/30\n",
      "125/125 [==============================] - 6s 51ms/step - loss: 0.0345 - accuracy: 0.9918 - val_loss: 4.0673 - val_accuracy: 0.5460\n",
      "Epoch 26/30\n",
      "125/125 [==============================] - 6s 52ms/step - loss: 0.0193 - accuracy: 0.9945 - val_loss: 3.9110 - val_accuracy: 0.5360\n",
      "Epoch 27/30\n",
      "125/125 [==============================] - 7s 52ms/step - loss: 0.0156 - accuracy: 0.9960 - val_loss: 4.1829 - val_accuracy: 0.5380\n",
      "Epoch 28/30\n",
      "125/125 [==============================] - 6s 51ms/step - loss: 0.0301 - accuracy: 0.9925 - val_loss: 4.7858 - val_accuracy: 0.5100\n",
      "Epoch 29/30\n",
      "125/125 [==============================] - 6s 51ms/step - loss: 0.1210 - accuracy: 0.9622 - val_loss: 3.7991 - val_accuracy: 0.5260\n",
      "Epoch 30/30\n",
      "125/125 [==============================] - 6s 52ms/step - loss: 0.1172 - accuracy: 0.9647 - val_loss: 3.8781 - val_accuracy: 0.5160\n"
     ]
    }
   ],
   "source": [
    "opt = tf.keras.optimizers.Adam(learning_rate= 0.001)\n",
    "model.compile(optimizer=opt, loss='sparse_categorical_crossentropy', metrics=['accuracy'])\n",
    "history = model.fit(x = data_manager.X_train, y = data_manager.y_train, validation_data = (data_manager.X_valid, data_manager.y_valid), epochs = 30, batch_size = 32)"
   ]
  },
  {
   "cell_type": "code",
   "execution_count": 26,
   "metadata": {},
   "outputs": [
    {
     "data": {
      "text/plain": [
       "array(['butterfiles', 'cats', 'chickens', 'cows', 'dogs', 'elephants',\n",
       "       'fishes', 'horses', 'lions', 'spiders'], dtype='<U11')"
      ]
     },
     "execution_count": 26,
     "metadata": {},
     "output_type": "execute_result"
    }
   ],
   "source": [
    "data_manager.classes"
   ]
  },
  {
   "cell_type": "code",
   "execution_count": 27,
   "metadata": {},
   "outputs": [],
   "source": [
    "categorical_labels = ['butterfly', 'cat', 'chicken', 'cow', 'dog', 'elephant', 'fish', 'horse', 'lion', 'spider']"
   ]
  },
  {
   "cell_type": "code",
   "execution_count": 34,
   "metadata": {},
   "outputs": [],
   "source": [
    "def load_test_set(folder):\n",
    "    from PIL import Image\n",
    "    from tensorflow.keras.preprocessing.image import ImageDataGenerator, array_to_img, img_to_array, load_img\n",
    "    image_paths = list(paths.list_images(folder))\n",
    "    test_data = []\n",
    "    for i, image_path in enumerate(image_paths):\n",
    "        img = Image.open(image_path).convert(\"RGB\") #load_img(image_path)\n",
    "        img = img.resize((32, 32), Image.ANTIALIAS)\n",
    "        x = img_to_array(img)\n",
    "        test_data.append(x)\n",
    "        if i+1 % 500 ==0:\n",
    "            print(\"Loaded {} images\".format(i+1))\n",
    "    test_data = np.asarray(test_data)\n",
    "    return test_data"
   ]
  },
  {
   "cell_type": "code",
   "execution_count": 35,
   "metadata": {},
   "outputs": [],
   "source": [
    "test_data = load_test_set(\"official_test_aug\")"
   ]
  },
  {
   "cell_type": "code",
   "execution_count": 37,
   "metadata": {},
   "outputs": [
    {
     "name": "stdout",
     "output_type": "stream",
     "text": [
      "Test shape: (23098, 32, 32, 3)\n"
     ]
    }
   ],
   "source": [
    "print(\"Test shape: {}\".format(test_data.shape))"
   ]
  },
  {
   "cell_type": "code",
   "execution_count": 38,
   "metadata": {},
   "outputs": [],
   "source": [
    "preds = model.predict(test_data, batch_size= 32)"
   ]
  },
  {
   "cell_type": "code",
   "execution_count": 51,
   "metadata": {},
   "outputs": [
    {
     "name": "stdout",
     "output_type": "stream",
     "text": [
      "(23098, 10)\n",
      "[[0.0000000e+00 1.0000000e+00 0.0000000e+00 0.0000000e+00 0.0000000e+00\n",
      "  0.0000000e+00 0.0000000e+00 0.0000000e+00 0.0000000e+00 0.0000000e+00]\n",
      " [1.0000000e+00 0.0000000e+00 0.0000000e+00 0.0000000e+00 0.0000000e+00\n",
      "  0.0000000e+00 0.0000000e+00 0.0000000e+00 0.0000000e+00 0.0000000e+00]\n",
      " [0.0000000e+00 0.0000000e+00 0.0000000e+00 0.0000000e+00 0.0000000e+00\n",
      "  0.0000000e+00 0.0000000e+00 0.0000000e+00 0.0000000e+00 1.0000000e+00]\n",
      " [0.0000000e+00 0.0000000e+00 0.0000000e+00 1.0000000e+00 0.0000000e+00\n",
      "  0.0000000e+00 0.0000000e+00 0.0000000e+00 0.0000000e+00 0.0000000e+00]\n",
      " [0.0000000e+00 0.0000000e+00 0.0000000e+00 0.0000000e+00 0.0000000e+00\n",
      "  0.0000000e+00 0.0000000e+00 0.0000000e+00 0.0000000e+00 1.0000000e+00]\n",
      " [0.0000000e+00 0.0000000e+00 0.0000000e+00 0.0000000e+00 0.0000000e+00\n",
      "  1.0000000e+00 0.0000000e+00 0.0000000e+00 0.0000000e+00 0.0000000e+00]\n",
      " [0.0000000e+00 0.0000000e+00 0.0000000e+00 0.0000000e+00 1.0000000e+00\n",
      "  0.0000000e+00 0.0000000e+00 0.0000000e+00 0.0000000e+00 0.0000000e+00]\n",
      " [0.0000000e+00 0.0000000e+00 0.0000000e+00 0.0000000e+00 0.0000000e+00\n",
      "  0.0000000e+00 0.0000000e+00 0.0000000e+00 0.0000000e+00 1.0000000e+00]\n",
      " [0.0000000e+00 0.0000000e+00 0.0000000e+00 0.0000000e+00 0.0000000e+00\n",
      "  0.0000000e+00 1.0000000e+00 0.0000000e+00 0.0000000e+00 0.0000000e+00]\n",
      " [0.0000000e+00 0.0000000e+00 0.0000000e+00 0.0000000e+00 0.0000000e+00\n",
      "  0.0000000e+00 0.0000000e+00 1.0000000e+00 0.0000000e+00 0.0000000e+00]\n",
      " [0.0000000e+00 0.0000000e+00 0.0000000e+00 1.0000000e+00 0.0000000e+00\n",
      "  8.7691735e-21 0.0000000e+00 0.0000000e+00 0.0000000e+00 0.0000000e+00]\n",
      " [0.0000000e+00 0.0000000e+00 0.0000000e+00 0.0000000e+00 0.0000000e+00\n",
      "  0.0000000e+00 0.0000000e+00 0.0000000e+00 0.0000000e+00 1.0000000e+00]\n",
      " [0.0000000e+00 0.0000000e+00 0.0000000e+00 0.0000000e+00 0.0000000e+00\n",
      "  0.0000000e+00 0.0000000e+00 0.0000000e+00 0.0000000e+00 1.0000000e+00]\n",
      " [0.0000000e+00 0.0000000e+00 0.0000000e+00 0.0000000e+00 0.0000000e+00\n",
      "  0.0000000e+00 0.0000000e+00 0.0000000e+00 0.0000000e+00 1.0000000e+00]\n",
      " [0.0000000e+00 0.0000000e+00 0.0000000e+00 0.0000000e+00 0.0000000e+00\n",
      "  0.0000000e+00 0.0000000e+00 0.0000000e+00 0.0000000e+00 1.0000000e+00]]\n"
     ]
    }
   ],
   "source": [
    "print(preds.shape)\n",
    "print(preds[0:15])"
   ]
  },
  {
   "cell_type": "code",
   "execution_count": 52,
   "metadata": {},
   "outputs": [
    {
     "name": "stdout",
     "output_type": "stream",
     "text": [
      "[1 0 9 3 9 5 4 9 6 7 3 9 9 9 9]\n"
     ]
    }
   ],
   "source": [
    "num_predicted_labels = np.argmax(preds, axis=1)\n",
    "print(num_predicted_labels[0:15])"
   ]
  },
  {
   "cell_type": "code",
   "execution_count": 56,
   "metadata": {},
   "outputs": [
    {
     "name": "stdout",
     "output_type": "stream",
     "text": [
      "['cat', 'butterfly', 'spider', 'cow', 'spider', 'elephant', 'dog', 'spider', 'fish', 'horse', 'cow', 'spider', 'spider', 'spider', 'spider']\n"
     ]
    }
   ],
   "source": [
    "cat_predicted_labels= [categorical_labels[num_predicted_labels[i]] for i in range(len(num_predicted_labels))]\n",
    "print(cat_predicted_labels[0:15])"
   ]
  },
  {
   "cell_type": "code",
   "execution_count": 60,
   "metadata": {},
   "outputs": [],
   "source": [
    "def create_solution():\n",
    "    import csv\n",
    "    header= ['ID', 'Label']\n",
    "    with open('my_solution.csv', 'w', encoding='UTF8', newline='') as f:\n",
    "        writer = csv.writer(f)\n",
    "        # write the header\n",
    "        writer.writerow(header)\n",
    "        data = []\n",
    "        for i in range(len(cat_predicted_labels)):\n",
    "            data.append([str(i), cat_predicted_labels[i]])\n",
    "        writer.writerows(data)"
   ]
  },
  {
   "cell_type": "code",
   "execution_count": 61,
   "metadata": {},
   "outputs": [],
   "source": [
    "create_solution()"
   ]
  },
  {
   "cell_type": "markdown",
   "metadata": {},
   "source": [
    "You now can submit the csv file `my_solution.csv` to the Kaggle competition."
   ]
  }
 ],
 "metadata": {
  "kernelspec": {
   "display_name": "Python 3",
   "language": "python",
   "name": "python3"
  },
  "language_info": {
   "codemirror_mode": {
    "name": "ipython",
    "version": 3
   },
   "file_extension": ".py",
   "mimetype": "text/x-python",
   "name": "python",
   "nbconvert_exporter": "python",
   "pygments_lexer": "ipython3",
   "version": "3.7.7"
  }
 },
 "nbformat": 4,
 "nbformat_minor": 4
}
